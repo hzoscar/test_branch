{
 "cells": [
  {
   "cell_type": "code",
   "execution_count": 3,
   "metadata": {},
   "outputs": [
    {
     "data": {
      "text/plain": [
       "20.381569714992146"
      ]
     },
     "execution_count": 3,
     "metadata": {},
     "output_type": "execute_result"
    }
   ],
   "source": [
    "# Calculo del IBM\n",
    "estatura=1.73 #en metros\n",
    "peso=61 #en kilogramos\n",
    "\n",
    "IMC= peso/estatura**2\n",
    "IMC"
   ]
  }
 ],
 "metadata": {
  "kernelspec": {
   "display_name": "analyticscourse",
   "language": "python",
   "name": "python3"
  },
  "language_info": {
   "codemirror_mode": {
    "name": "ipython",
    "version": 3
   },
   "file_extension": ".py",
   "mimetype": "text/x-python",
   "name": "python",
   "nbconvert_exporter": "python",
   "pygments_lexer": "ipython3",
   "version": "3.9.16"
  },
  "orig_nbformat": 4,
  "vscode": {
   "interpreter": {
    "hash": "32d77dde0977e009dbd1464021704d0d35c1a79fcd29b1a59dac3922ff115826"
   }
  }
 },
 "nbformat": 4,
 "nbformat_minor": 2
}
